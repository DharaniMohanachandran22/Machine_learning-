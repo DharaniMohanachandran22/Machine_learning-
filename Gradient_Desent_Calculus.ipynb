{
  "nbformat": 4,
  "nbformat_minor": 0,
  "metadata": {
    "colab": {
      "provenance": [],
      "authorship_tag": "ABX9TyMfVWW90u0IjQDu/JxWlaE1",
      "include_colab_link": true
    },
    "kernelspec": {
      "name": "python3",
      "display_name": "Python 3"
    },
    "language_info": {
      "name": "python"
    }
  },
  "cells": [
    {
      "cell_type": "markdown",
      "metadata": {
        "id": "view-in-github",
        "colab_type": "text"
      },
      "source": [
        "<a href=\"https://colab.research.google.com/github/DharaniMohanachandran22/Machine_learning-/blob/main/Gradient_Desent_Calculus.ipynb\" target=\"_parent\"><img src=\"https://colab.research.google.com/assets/colab-badge.svg\" alt=\"Open In Colab\"/></a>"
      ]
    },
    {
      "cell_type": "code",
      "execution_count": null,
      "metadata": {
        "id": "XtEMUaelsbLP"
      },
      "outputs": [],
      "source": [
        "import numpy as np"
      ]
    },
    {
      "cell_type": "code",
      "source": [
        "xdata=np.array([-40,-10,0,8,15,22],dtype=float)\n",
        "ydata=np.array([-40,14,32,46,56,72],dtype=float)"
      ],
      "metadata": {
        "id": "qTPP_Zz7d-I9"
      },
      "execution_count": null,
      "outputs": []
    },
    {
      "cell_type": "code",
      "source": [
        "x=22\n",
        "m=1.8\n",
        "c=32"
      ],
      "metadata": {
        "id": "zKcF463jeQ2S"
      },
      "execution_count": null,
      "outputs": []
    },
    {
      "cell_type": "code",
      "source": [
        "y=m*x +c\n",
        "y"
      ],
      "metadata": {
        "colab": {
          "base_uri": "https://localhost:8080/"
        },
        "id": "k-U3G9nhec4E",
        "outputId": "2e3c5f4b-0ab1-4e36-daac-1072bc7a8b39"
      },
      "execution_count": null,
      "outputs": [
        {
          "output_type": "execute_result",
          "data": {
            "text/plain": [
              "71.6"
            ]
          },
          "metadata": {},
          "execution_count": 5
        }
      ]
    },
    {
      "cell_type": "code",
      "source": [
        "xdata*m+c"
      ],
      "metadata": {
        "colab": {
          "base_uri": "https://localhost:8080/"
        },
        "id": "_z_z1k9CehYa",
        "outputId": "3188c397-1df2-40db-9bcc-cca7fde1c9d1"
      },
      "execution_count": null,
      "outputs": [
        {
          "output_type": "execute_result",
          "data": {
            "text/plain": [
              "array([-40. ,  14. ,  32. ,  46.4,  59. ,  71.6])"
            ]
          },
          "metadata": {},
          "execution_count": 6
        }
      ]
    },
    {
      "cell_type": "code",
      "source": [
        "m=1\n",
        "c=1\n",
        "y_pred=xdata*m+c\n",
        "y_pred"
      ],
      "metadata": {
        "colab": {
          "base_uri": "https://localhost:8080/"
        },
        "id": "cVkP0Ewben4J",
        "outputId": "6e9722ab-91bf-45e4-95c5-28e42d4a2cb9"
      },
      "execution_count": null,
      "outputs": [
        {
          "output_type": "execute_result",
          "data": {
            "text/plain": [
              "array([-39.,  -9.,   1.,   9.,  16.,  23.])"
            ]
          },
          "metadata": {},
          "execution_count": 7
        }
      ]
    },
    {
      "cell_type": "code",
      "source": [
        "ydata"
      ],
      "metadata": {
        "colab": {
          "base_uri": "https://localhost:8080/"
        },
        "id": "-f0NTNxs8DQE",
        "outputId": "0e2ffce2-f7e6-4cda-84a1-f87b2f195f67"
      },
      "execution_count": null,
      "outputs": [
        {
          "output_type": "execute_result",
          "data": {
            "text/plain": [
              "array([-40.,  14.,  32.,  46.,  56.,  72.])"
            ]
          },
          "metadata": {},
          "execution_count": 8
        }
      ]
    },
    {
      "cell_type": "code",
      "source": [
        "#ERROR CALCULATION\n",
        "print(y_pred-ydata)#residual/error\n",
        "print((y_pred - ydata)**2) # if u sum the error as it is the +ve and -ve vals will get cancel out each other\n",
        "print(np.sum((y_pred -ydata)**2)/len(ydata))\n",
        "#np.sum(...): This part sums up all the squared differences calculated in the previous step.\n",
        "print(np.mean((y_pred -ydata)**2))\n",
        "#np.mean() function calculates the average of the values in the input array."
      ],
      "metadata": {
        "colab": {
          "base_uri": "https://localhost:8080/"
        },
        "id": "-2GCy22c8JH9",
        "outputId": "fac75ede-e603-45e4-ef12-ed5a32afd6a5"
      },
      "execution_count": null,
      "outputs": [
        {
          "output_type": "stream",
          "name": "stdout",
          "text": [
            "[  1. -23. -31. -37. -40. -49.]\n",
            "[1.000e+00 5.290e+02 9.610e+02 1.369e+03 1.600e+03 2.401e+03]\n",
            "1143.5\n",
            "1143.5\n"
          ]
        }
      ]
    },
    {
      "cell_type": "code",
      "source": [
        "def error(y,y_hat):\n",
        "  return np.mean((y-y_hat)**2)"
      ],
      "metadata": {
        "id": "n8A7l58E-v7d"
      },
      "execution_count": null,
      "outputs": []
    },
    {
      "cell_type": "code",
      "source": [
        "error(y_pred,ydata)"
      ],
      "metadata": {
        "colab": {
          "base_uri": "https://localhost:8080/"
        },
        "id": "5xBcA-Lr_WAA",
        "outputId": "bb333214-f44b-495a-d83e-d53a928cd0fc"
      },
      "execution_count": null,
      "outputs": [
        {
          "output_type": "execute_result",
          "data": {
            "text/plain": [
              "1143.5"
            ]
          },
          "metadata": {},
          "execution_count": 11
        }
      ]
    },
    {
      "cell_type": "markdown",
      "source": [
        "RANDOM search value of c"
      ],
      "metadata": {
        "id": "PlHB1HUrARRz"
      }
    },
    {
      "cell_type": "code",
      "source": [
        "m=1.8\n",
        "c_vals=[25,26,27,28,29,30,31,32,33,34]\n",
        "\n",
        "for cc in c_vals:\n",
        "  y_pred=xdata*m + cc\n",
        "  print(cc, error(ydata,y_pred))\n",
        "  #which is have very lowest error ,it is suitable value for c_vals"
      ],
      "metadata": {
        "id": "Uf4I8ORe_Zew",
        "colab": {
          "base_uri": "https://localhost:8080/"
        },
        "outputId": "ef68e522-e9f6-4b7b-ab1d-bdb14d4ffb06"
      },
      "execution_count": null,
      "outputs": [
        {
          "output_type": "stream",
          "name": "stdout",
          "text": [
            "25 43.55333333333335\n",
            "26 31.553333333333345\n",
            "27 21.553333333333345\n",
            "28 13.553333333333342\n",
            "29 7.553333333333341\n",
            "30 3.5533333333333386\n",
            "31 1.5533333333333363\n",
            "32 1.5533333333333337\n",
            "33 3.553333333333331\n",
            "34 7.553333333333328\n"
          ]
        }
      ]
    },
    {
      "cell_type": "code",
      "source": [
        "m=1\n",
        "c=50\n",
        "y_pred=xdata*m +c\n",
        "print(error(ydata,y_pred))\n",
        "print(error(y_pred,ydata))"
      ],
      "metadata": {
        "colab": {
          "base_uri": "https://localhost:8080/"
        },
        "id": "B4H7BjpFC7JJ",
        "outputId": "b7baea2e-bb56-4420-e455-18a60b2140e7"
      },
      "execution_count": null,
      "outputs": [
        {
          "output_type": "stream",
          "name": "stdout",
          "text": [
            "620.8333333333334\n",
            "620.8333333333334\n"
          ]
        }
      ]
    },
    {
      "cell_type": "code",
      "source": [
        "x = np.array([-40, -10, 0, 8, 15, 22], dtype=float)\n",
        "y = np.array([-40, 14, 32, 46, 59, 72], dtype=float)"
      ],
      "metadata": {
        "id": "jdMFXQurMxNK"
      },
      "execution_count": null,
      "outputs": []
    },
    {
      "cell_type": "code",
      "source": [
        "m=1\n",
        "c=1\n",
        "lr=0.001\n",
        "y_hat=m*x + c\n",
        "n = len(x)\n",
        "print(y_hat)\n",
        "e=error(ydata,y_hat)\n",
        "print(m,c,e)\n",
        "# these are partial derivatives of the error with respest to m and c using the gradient of the mean squard error loss function.\n",
        "de_dm=(-2/n)*np.sum(x*(y-y_hat))\n",
        "de_dc=(-2/n)*np.sum(y-y_hat)\n",
        "print(de_dm,de_dc)\n",
        "#update the m,c =>to reduce error\n",
        "m=m-(lr*de_dm)\n",
        "c=c-(lr*de_dc)\n",
        "print(m,c)\n",
        "y_hat=m*x+c\n",
        "e=error(y,y_hat)\n",
        "print(m,c,e)"
      ],
      "metadata": {
        "colab": {
          "base_uri": "https://localhost:8080/"
        },
        "id": "LKfJ6xFlDydS",
        "outputId": "79e09e4e-1717-41ee-b1c3-1a8d77690b0c"
      },
      "execution_count": null,
      "outputs": [
        {
          "output_type": "stream",
          "name": "stdout",
          "text": [
            "[-39.  -9.   1.   9.  16.  23.]\n",
            "1 1 1143.5\n",
            "-609.6666666666666 -60.666666666666664\n",
            "1.6096666666666666 1.0606666666666666\n",
            "1.6096666666666666 1.0606666666666666 962.7677954999998\n"
          ]
        }
      ]
    },
    {
      "cell_type": "code",
      "source": [
        "m=-1000\n",
        "c=-1000\n",
        "lr=0.001\n",
        "epochs=1000\n",
        "n=len(x)\n",
        "for i in range(epochs):\n",
        "  y_hat=x*m+c;\n",
        "  e=error(y,y_hat);\n",
        "  if (i%50==0):\n",
        "    print(m,c,e)\n",
        "  de_dm=(-2/n)*np.sum(x*(y-y_hat))\n",
        "  de_dc=(-2/n)*np.sum(y-y_hat)\n",
        "  m=m-(lr*de_dm)\n",
        "  c=c-(lr*de_dc)"
      ],
      "metadata": {
        "colab": {
          "base_uri": "https://localhost:8080/"
        },
        "id": "6R1ZUgRQLcwW",
        "outputId": "b2a4bd14-31ef-4f99-9f4f-2337fd9e0d0c"
      },
      "execution_count": null,
      "outputs": [
        {
          "output_type": "stream",
          "name": "stdout",
          "text": [
            "-1000 -1000 412995600.1666667\n",
            "-0.09414046303916644 -903.6900260666728 874044.2917934192\n",
            "0.08620811345969655 -814.7056729015914 715705.8543052323\n",
            "0.2494055303252847 -734.1837366605912 586051.3891176303\n",
            "0.3970828637905104 -661.3194410245796 479884.61995055835\n",
            "0.5307160746480097 -595.384543947071 392950.6076196656\n",
            "0.6516407597371462 -535.7200592406132 321765.2210882673\n",
            "0.7610655005637296 -481.72967034075 263475.50087683887\n",
            "0.860083942465312 -432.8737704213964 215745.31849132932\n",
            "0.9496857250471392 -388.664069295574 176661.74934241918\n",
            "1.0307663731330905 -348.6587132001826 144658.40678068224\n",
            "1.1041362470865919 -312.457868689513 118452.66463820853\n",
            "1.170528641955542 -279.6997265007311 96994.25228915304\n",
            "1.230607116388086 -250.05688545197714 79423.1620281457\n",
            "1.2849721245681116 -223.233080231954 65035.18178346271\n",
            "1.3341670174532945 -198.96022037691046 53253.671789129585\n",
            "1.378683473295084 -176.99571084107544 43606.45408476387\n",
            "1.4189664117159313 -157.12002738099295 35706.888623274346\n",
            "1.4554184404575017 -139.13452252094183 29238.37755690553\n",
            "1.4884038792428858 -122.85944017116603 23941.67666624086\n"
          ]
        }
      ]
    },
    {
      "cell_type": "markdown",
      "source": [
        "TensorFlow Gradients"
      ],
      "metadata": {
        "id": "MyR2x1NM4GJ8"
      }
    },
    {
      "cell_type": "code",
      "source": [
        "import tensorflow  as tf"
      ],
      "metadata": {
        "id": "rt9851HD4OFM"
      },
      "execution_count": null,
      "outputs": []
    },
    {
      "cell_type": "code",
      "source": [
        "x=tf.Variable(3.0)\n",
        "x"
      ],
      "metadata": {
        "id": "G6vfqM_PRpnJ",
        "colab": {
          "base_uri": "https://localhost:8080/"
        },
        "outputId": "47cebeb4-6c72-466b-d18d-94faec4640aa"
      },
      "execution_count": null,
      "outputs": [
        {
          "output_type": "execute_result",
          "data": {
            "text/plain": [
              "<tf.Variable 'Variable:0' shape=() dtype=float32, numpy=3.0>"
            ]
          },
          "metadata": {},
          "execution_count": 18
        }
      ]
    },
    {
      "cell_type": "code",
      "source": [
        "y=x**2\n",
        "print(y)"
      ],
      "metadata": {
        "colab": {
          "base_uri": "https://localhost:8080/"
        },
        "id": "zyhFHk4k9g0C",
        "outputId": "ac722bca-c1a6-4e36-9d63-d60fcf455072"
      },
      "execution_count": null,
      "outputs": [
        {
          "output_type": "stream",
          "name": "stdout",
          "text": [
            "tf.Tensor(9.0, shape=(), dtype=float32)\n"
          ]
        }
      ]
    },
    {
      "cell_type": "code",
      "source": [
        "#Manually calculation for derivation\n",
        "dy_dx=2*x\n",
        "print(dy_dx)"
      ],
      "metadata": {
        "colab": {
          "base_uri": "https://localhost:8080/"
        },
        "id": "q4WpEewp9oPE",
        "outputId": "28828179-7def-4c14-a957-84ef58ddc130"
      },
      "execution_count": null,
      "outputs": [
        {
          "output_type": "stream",
          "name": "stdout",
          "text": [
            "tf.Tensor(6.0, shape=(), dtype=float32)\n"
          ]
        }
      ]
    },
    {
      "cell_type": "code",
      "source": [
        "with tf.GradientTape() as tape:\n",
        "  y=x**2\n",
        "dy_dx= tape.gradient(y,x)\n",
        "dy_dx.numpy()\n",
        "#print(dy_dx) => #tf.Tensor(6.0, shape=(), dtype=float32)"
      ],
      "metadata": {
        "colab": {
          "base_uri": "https://localhost:8080/"
        },
        "id": "-tt5LoLL91cG",
        "outputId": "a6ba2d83-bbb6-450b-e272-adb69be62b03"
      },
      "execution_count": null,
      "outputs": [
        {
          "output_type": "execute_result",
          "data": {
            "text/plain": [
              "6.0"
            ]
          },
          "metadata": {},
          "execution_count": 25
        }
      ]
    },
    {
      "cell_type": "code",
      "source": [
        "with tf.GradientTape() as tape:\n",
        "  y=tf.math.sin(x**2)\n",
        "dy_dx= tape.gradient(y,x)\n",
        "dy_dx.numpy()"
      ],
      "metadata": {
        "colab": {
          "base_uri": "https://localhost:8080/"
        },
        "id": "lIHSetnr-aeD",
        "outputId": "4071a4da-2ca0-40f0-cec0-3ea414a2c9cb"
      },
      "execution_count": null,
      "outputs": [
        {
          "output_type": "execute_result",
          "data": {
            "text/plain": [
              "-5.4667816"
            ]
          },
          "metadata": {},
          "execution_count": 26
        }
      ]
    },
    {
      "cell_type": "markdown",
      "source": [
        "Using tensorFlow Gradients"
      ],
      "metadata": {
        "id": "odfuS9ErCihl"
      }
    },
    {
      "cell_type": "code",
      "source": [
        "import tensorflow as tf"
      ],
      "metadata": {
        "id": "ZGannJlYCdbp"
      },
      "execution_count": null,
      "outputs": []
    },
    {
      "cell_type": "code",
      "source": [
        "x = np.array([-40, -10, 0, 8, 15, 22], dtype=float)\n",
        "y = np.array([-40, 14, 32, 46, 59, 72], dtype=float)"
      ],
      "metadata": {
        "id": "KTovXrsMCwyK"
      },
      "execution_count": null,
      "outputs": []
    },
    {
      "cell_type": "code",
      "source": [
        "def error(y_hat):\n",
        "  return tf.reduce_mean((y-y_hat)**2)"
      ],
      "metadata": {
        "id": "AeGLOUk_C2Ql"
      },
      "execution_count": null,
      "outputs": []
    },
    {
      "cell_type": "code",
      "source": [
        "m=tf.Variable(1.0)\n",
        "c=tf.Variable(0.0)"
      ],
      "metadata": {
        "id": "xbt01vlrDCLl"
      },
      "execution_count": null,
      "outputs": []
    },
    {
      "cell_type": "code",
      "source": [
        "lr=0.001\n",
        "epoch=2000"
      ],
      "metadata": {
        "id": "Duv7OtatDJYw"
      },
      "execution_count": null,
      "outputs": []
    },
    {
      "cell_type": "code",
      "source": [
        "for i in range(1000):\n",
        "  with tf.GradientTape() as tape:\n",
        "    y_hat=m*x + c\n",
        "    mse=error(y_hat)\n",
        "    if(i%100==0):\n",
        "      print(\"m=%.2f c=%.2f mse=%.2f\"%(m,c,mse))\n",
        "    [de_dm,de_dc]=tape.gradient(mse,[m,c])\n",
        "    m.assign_sub(de_dm*lr)\n",
        "    c.assign_sub(de_dc*lr)"
      ],
      "metadata": {
        "colab": {
          "base_uri": "https://localhost:8080/"
        },
        "id": "0On0peyhDPrF",
        "outputId": "4d959380-8b4d-4ea8-d22a-7c1bb3c8218d"
      },
      "execution_count": null,
      "outputs": [
        {
          "output_type": "stream",
          "name": "stdout",
          "text": [
            "m=1.00 c=0.00 mse=1246.67\n",
            "m=1.75 c=5.80 mse=685.64\n",
            "m=1.76 c=10.54 mse=459.74\n",
            "m=1.77 c=14.43 mse=308.27\n",
            "m=1.77 c=17.61 mse=206.72\n",
            "m=1.78 c=20.22 mse=138.62\n",
            "m=1.78 c=22.35 mse=92.96\n",
            "m=1.79 c=24.10 mse=62.35\n",
            "m=1.79 c=25.53 mse=41.82\n",
            "m=1.79 c=26.71 mse=28.06\n"
          ]
        }
      ]
    },
    {
      "cell_type": "code",
      "source": [],
      "metadata": {
        "id": "FDqmp2NrFrtS"
      },
      "execution_count": null,
      "outputs": []
    }
  ]
}