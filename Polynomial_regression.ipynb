{
  "nbformat": 4,
  "nbformat_minor": 0,
  "metadata": {
    "colab": {
      "provenance": [],
      "authorship_tag": "ABX9TyN9nRIZsLUdTYyIN70pL+Ye",
      "include_colab_link": true
    },
    "kernelspec": {
      "name": "python3",
      "display_name": "Python 3"
    },
    "language_info": {
      "name": "python"
    }
  },
  "cells": [
    {
      "cell_type": "markdown",
      "metadata": {
        "id": "view-in-github",
        "colab_type": "text"
      },
      "source": [
        "<a href=\"https://colab.research.google.com/github/DharaniMohanachandran22/Machine_learning-/blob/main/Polynomial_regression.ipynb\" target=\"_parent\"><img src=\"https://colab.research.google.com/assets/colab-badge.svg\" alt=\"Open In Colab\"/></a>"
      ]
    },
    {
      "cell_type": "code",
      "execution_count": null,
      "metadata": {
        "id": "jYwRzKzKAVz5"
      },
      "outputs": [],
      "source": [
        "import numpy as np\n",
        "import matplotlib.pyplot as plt\n"
      ]
    },
    {
      "cell_type": "code",
      "source": [
        "x=np.array([1,2,3,4,5])\n",
        "y=np.array([2.1,3.8,6.5,9.2,11.3])"
      ],
      "metadata": {
        "id": "3eitn9MtAfmP"
      },
      "execution_count": null,
      "outputs": []
    },
    {
      "cell_type": "code",
      "source": [
        "degree=2\n",
        " #degree=3 array([[  1,   1,   1,   1],\n",
        "       #[  1,   2,   4,   8],\n",
        "       #[  1,   3,   9,  27],\n",
        "       #[  1,   4,  16,  64],\n",
        "       #[  1,   5,  25, 125]])\n",
        "#x_poly=np.column_stack([x**i for i in range(degree+1)])\n",
        "'''array([[  1,   1,   1,   1,   1],\n",
        "       [  1,   2,   3,   4,   5],\n",
        "       [  1,   4,   9,  16,  25],\n",
        "       [  1,   8,  27,  64, 125]])'''"
      ],
      "metadata": {
        "id": "YdtGPzUZArk7"
      },
      "execution_count": null,
      "outputs": []
    },
    {
      "cell_type": "code",
      "source": [
        "x_poly=np.column_stack([x**i for i in range(degree+1)])\n",
        "x_poly # design matrix=> represent as 0,x,x^i matrix // range indicate how many x terms should be present"
      ],
      "metadata": {
        "colab": {
          "base_uri": "https://localhost:8080/"
        },
        "id": "xA5kP-afAuYt",
        "outputId": "0e1e3dcd-9cae-4004-8548-926f1c3df1ef"
      },
      "execution_count": null,
      "outputs": [
        {
          "output_type": "execute_result",
          "data": {
            "text/plain": [
              "array([[ 1,  1,  1],\n",
              "       [ 1,  2,  4],\n",
              "       [ 1,  3,  9],\n",
              "       [ 1,  4, 16],\n",
              "       [ 1,  5, 25]])"
            ]
          },
          "metadata": {},
          "execution_count": 15
        }
      ]
    },
    {
      "cell_type": "code",
      "source": [
        "weights=np.zeros(degree+1)\n",
        "weights"
      ],
      "metadata": {
        "colab": {
          "base_uri": "https://localhost:8080/"
        },
        "id": "FxB_IOu1BA2Z",
        "outputId": "da493abb-39e7-44b5-eb0a-c7aac57579da"
      },
      "execution_count": null,
      "outputs": [
        {
          "output_type": "execute_result",
          "data": {
            "text/plain": [
              "array([0., 0., 0.])"
            ]
          },
          "metadata": {},
          "execution_count": 16
        }
      ]
    },
    {
      "cell_type": "code",
      "source": [
        "learning_rate=0.001\n",
        "num_iterations =10000"
      ],
      "metadata": {
        "id": "1WX81BGGCEP8"
      },
      "execution_count": null,
      "outputs": []
    },
    {
      "cell_type": "code",
      "source": [
        "for i in range(num_iterations):# if you don't if use _ => for _ in range():\n",
        "  #calculate predictions\n",
        "  predictions=np.dot(x_poly,weights)\n",
        "  #calculate the error\n",
        "  error =predictions-y\n",
        "  #update the weights (coefficients) using gradient descent method\n",
        "  gradient =np.dot(x_poly.T,error)/len(x)\n",
        "  weights-= learning_rate * gradient\n",
        "  if(i%100==0):\n",
        "     print(f'weights for iteration{_}:{weights}')"
      ],
      "metadata": {
        "colab": {
          "base_uri": "https://localhost:8080/"
        },
        "id": "3mgai1-gCVbJ",
        "outputId": "b1a04909-9eb1-422c-e11c-d9d90aeac6e8"
      },
      "execution_count": null,
      "outputs": [
        {
          "output_type": "stream",
          "name": "stdout",
          "text": [
            "weights for iteration0:[0.64597186 1.43213826 0.15092306]\n",
            "weights for iteration0:[0.64372071 1.43383818 0.1506588 ]\n",
            "weights for iteration0:[0.64147541 1.43553276 0.15039543]\n",
            "weights for iteration0:[0.63923597 1.43722206 0.15013295]\n",
            "weights for iteration0:[0.63700243 1.43890615 0.14987134]\n",
            "weights for iteration0:[0.6347748  1.44058508 0.14961058]\n",
            "weights for iteration0:[0.63255309 1.44225892 0.14935066]\n",
            "weights for iteration0:[0.63033731 1.44392771 0.14909157]\n",
            "weights for iteration0:[0.62812749 1.44559151 0.14883329]\n",
            "weights for iteration0:[0.62592361 1.44725034 0.14857582]\n",
            "weights for iteration0:[0.6237257  1.44890427 0.14831914]\n",
            "weights for iteration0:[0.62153374 1.45055332 0.14806325]\n",
            "weights for iteration0:[0.61934775 1.45219753 0.14780814]\n",
            "weights for iteration0:[0.61716771 1.45383693 0.14755379]\n",
            "weights for iteration0:[0.61499364 1.45547156 0.14730021]\n",
            "weights for iteration0:[0.61282552 1.45710145 0.14704739]\n",
            "weights for iteration0:[0.61066335 1.45872663 0.14679531]\n",
            "weights for iteration0:[0.60850713 1.46034712 0.14654398]\n",
            "weights for iteration0:[0.60635684 1.46196295 0.14629338]\n",
            "weights for iteration0:[0.60421249 1.46357414 0.14604352]\n",
            "weights for iteration0:[0.60207405 1.46518072 0.14579439]\n",
            "weights for iteration0:[0.59994153 1.46678271 0.14554597]\n",
            "weights for iteration0:[0.59781492 1.46838013 0.14529828]\n",
            "weights for iteration0:[0.59569419 1.469973   0.1450513 ]\n",
            "weights for iteration0:[0.59357935 1.47156134 0.14480504]\n",
            "weights for iteration0:[0.59147038 1.47314517 0.14455948]\n",
            "weights for iteration0:[0.58936726 1.47472451 0.14431462]\n",
            "weights for iteration0:[0.58727    1.47629938 0.14407046]\n",
            "weights for iteration0:[0.58517856 1.47786979 0.143827  ]\n",
            "weights for iteration0:[0.58309295 1.47943576 0.14358423]\n",
            "weights for iteration0:[0.58101314 1.48099731 0.14334215]\n",
            "weights for iteration0:[0.57893913 1.48255446 0.14310076]\n",
            "weights for iteration0:[0.5768709  1.48410721 0.14286006]\n",
            "weights for iteration0:[0.57480844 1.48565559 0.14262003]\n",
            "weights for iteration0:[0.57275173 1.4871996  0.14238069]\n",
            "weights for iteration0:[0.57070075 1.48873927 0.14214202]\n",
            "weights for iteration0:[0.5686555  1.49027461 0.14190403]\n",
            "weights for iteration0:[0.56661596 1.49180563 0.14166671]\n",
            "weights for iteration0:[0.56458212 1.49333235 0.14143005]\n",
            "weights for iteration0:[0.56255396 1.49485477 0.14119407]\n",
            "weights for iteration0:[0.56053146 1.49637292 0.14095875]\n",
            "weights for iteration0:[0.55851461 1.49788681 0.14072409]\n",
            "weights for iteration0:[0.5565034  1.49939644 0.14049009]\n",
            "weights for iteration0:[0.55449781 1.50090184 0.14025675]\n",
            "weights for iteration0:[0.55249782 1.50240302 0.14002406]\n",
            "weights for iteration0:[0.55050343 1.50389998 0.13979203]\n",
            "weights for iteration0:[0.54851462 1.50539275 0.13956065]\n",
            "weights for iteration0:[0.54653136 1.50688133 0.13932993]\n",
            "weights for iteration0:[0.54455365 1.50836573 0.13909984]\n",
            "weights for iteration0:[0.54258147 1.50984598 0.13887041]\n",
            "weights for iteration0:[0.54061481 1.51132207 0.13864162]\n",
            "weights for iteration0:[0.53865365 1.51279403 0.13841347]\n",
            "weights for iteration0:[0.53669798 1.51426186 0.13818596]\n",
            "weights for iteration0:[0.53474777 1.51572558 0.13795909]\n",
            "weights for iteration0:[0.53280303 1.5171852  0.13773285]\n",
            "weights for iteration0:[0.53086372 1.51864073 0.13750725]\n",
            "weights for iteration0:[0.52892984 1.52009218 0.13728228]\n",
            "weights for iteration0:[0.52700137 1.52153956 0.13705794]\n",
            "weights for iteration0:[0.5250783  1.52298289 0.13683423]\n",
            "weights for iteration0:[0.52316061 1.52442218 0.13661115]\n",
            "weights for iteration0:[0.52124829 1.52585744 0.13638869]\n",
            "weights for iteration0:[0.51934131 1.52728868 0.13616686]\n",
            "weights for iteration0:[0.51743968 1.52871591 0.13594564]\n",
            "weights for iteration0:[0.51554336 1.53013914 0.13572505]\n",
            "weights for iteration0:[0.51365236 1.53155839 0.13550507]\n",
            "weights for iteration0:[0.51176664 1.53297366 0.13528571]\n",
            "weights for iteration0:[0.5098862  1.53438497 0.13506697]\n",
            "weights for iteration0:[0.50801103 1.53579233 0.13484884]\n",
            "weights for iteration0:[0.5061411  1.53719575 0.13463131]\n",
            "weights for iteration0:[0.50427641 1.53859524 0.1344144 ]\n",
            "weights for iteration0:[0.50241694 1.53999081 0.1341981 ]\n",
            "weights for iteration0:[0.50056267 1.54138247 0.1339824 ]\n",
            "weights for iteration0:[0.49871359 1.54277024 0.1337673 ]\n",
            "weights for iteration0:[0.49686969 1.54415412 0.13355281]\n",
            "weights for iteration0:[0.49503095 1.54553413 0.13333892]\n",
            "weights for iteration0:[0.49319735 1.54691027 0.13312562]\n",
            "weights for iteration0:[0.49136889 1.54828256 0.13291293]\n",
            "weights for iteration0:[0.48954554 1.54965101 0.13270083]\n",
            "weights for iteration0:[0.4877273  1.55101563 0.13248932]\n",
            "weights for iteration0:[0.48591415 1.55237642 0.1322784 ]\n",
            "weights for iteration0:[0.48410607 1.55373341 0.13206808]\n",
            "weights for iteration0:[0.48230306 1.5550866  0.13185834]\n",
            "weights for iteration0:[0.48050509 1.556436   0.1316492 ]\n",
            "weights for iteration0:[0.47871215 1.55778163 0.13144063]\n",
            "weights for iteration0:[0.47692424 1.55912348 0.13123265]\n",
            "weights for iteration0:[0.47514133 1.56046158 0.13102526]\n",
            "weights for iteration0:[0.4733634  1.56179594 0.13081844]\n",
            "weights for iteration0:[0.47159046 1.56312656 0.1306122 ]\n",
            "weights for iteration0:[0.46982248 1.56445345 0.13040654]\n",
            "weights for iteration0:[0.46805944 1.56577663 0.13020146]\n",
            "weights for iteration0:[0.46630135 1.56709611 0.12999695]\n",
            "weights for iteration0:[0.46454817 1.56841189 0.12979301]\n",
            "weights for iteration0:[0.4627999  1.56972399 0.12958964]\n",
            "weights for iteration0:[0.46105652 1.57103241 0.12938685]\n",
            "weights for iteration0:[0.45931803 1.57233718 0.12918462]\n",
            "weights for iteration0:[0.4575844  1.57363829 0.12898295]\n",
            "weights for iteration0:[0.45585562 1.57493576 0.12878186]\n",
            "weights for iteration0:[0.45413169 1.57622959 0.12858132]\n",
            "weights for iteration0:[0.45241258 1.57751981 0.12838134]\n",
            "weights for iteration0:[0.45069828 1.57880641 0.12818193]\n"
          ]
        }
      ]
    },
    {
      "cell_type": "code",
      "source": [
        "def predict(x,weights):\n",
        "  x_poly=np.array([x**i for i in range(degree+1)])\n",
        "  #here we can use array => single element only passed,not an full array\n",
        "  return np.dot(x_poly,weights)"
      ],
      "metadata": {
        "id": "Yk_bJFRFE1i6"
      },
      "execution_count": null,
      "outputs": []
    },
    {
      "cell_type": "code",
      "source": [
        "plt.scatter(x,y,label=\"Data points\")\n",
        "x_range =np.linspace(min(x),max(x),10)\n",
        "print(x_range)\n",
        "y_pred = [predict(x,weights) for x in x_range]\n",
        "plt.plot(x_range, y_pred,color='r',label=\"polynamial linear regression\")\n",
        "plt.xlabel('x')\n",
        "plt.ylabel('y')\n",
        "plt.legend()\n",
        "plt.show()"
      ],
      "metadata": {
        "colab": {
          "base_uri": "https://localhost:8080/",
          "height": 488
        },
        "id": "w7QkOv4HH6qx",
        "outputId": "071f8a11-7ff9-4cab-e444-84d3e492cd1a"
      },
      "execution_count": null,
      "outputs": [
        {
          "output_type": "stream",
          "name": "stdout",
          "text": [
            "[1.         1.44444444 1.88888889 2.33333333 2.77777778 3.22222222\n",
            " 3.66666667 4.11111111 4.55555556 5.        ]\n"
          ]
        },
        {
          "output_type": "display_data",
          "data": {
            "text/plain": [
              "<Figure size 640x480 with 1 Axes>"
            ],
            "image/png": "[encoded data removed]"
          },
          "metadata": {}
        }
      ]
    },
    {
      "cell_type": "code",
      "source": [],
      "metadata": {
        "id": "V_WKwWN9JFrs"
      },
      "execution_count": null,
      "outputs": []
    }
  ]
}