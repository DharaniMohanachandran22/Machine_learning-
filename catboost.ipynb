{
  "nbformat": 4,
  "nbformat_minor": 0,
  "metadata": {
    "colab": {
      "provenance": [],
      "authorship_tag": "ABX9TyME38xN7ThNmzzDOAuu+fVf",
      "include_colab_link": true
    },
    "kernelspec": {
      "name": "python3",
      "display_name": "Python 3"
    },
    "language_info": {
      "name": "python"
    }
  },
  "cells": [
    {
      "cell_type": "markdown",
      "metadata": {
        "id": "view-in-github",
        "colab_type": "text"
      },
      "source": [
        "<a href=\"https://colab.research.google.com/github/DharaniMohanachandran22/Machine_learning-/blob/main/catboost.ipynb\" target=\"_parent\"><img src=\"https://colab.research.google.com/assets/colab-badge.svg\" alt=\"Open In Colab\"/></a>"
      ]
    },
    {
      "cell_type": "code",
      "execution_count": null,
      "metadata": {
        "id": "sWjNxw1UovBY"
      },
      "outputs": [],
      "source": [
        "import numpy as np\n",
        "import pandas as pd"
      ]
    },
    {
      "cell_type": "code",
      "source": [
        "train=pd.read_csv(\"https://raw.githubusercontent.com/ezioauditore-tech/AI/main/datasets/amazon-employee-access-challenge/train.csv\")\n",
        "test=pd.read_csv(\"https://raw.githubusercontent.com/ezioauditore-tech/AI/main/datasets/amazon-employee-access-challenge/test.csv\")\n"
      ],
      "metadata": {
        "id": "Ud-zuSK-pFKv"
      },
      "execution_count": null,
      "outputs": []
    },
    {
      "cell_type": "code",
      "source": [
        "print(train,test)"
      ],
      "metadata": {
        "colab": {
          "base_uri": "https://localhost:8080/"
        },
        "id": "M77oUHX1p_ma",
        "outputId": "2ec952f2-be2b-4f01-ad81-ff9db1461210"
      },
      "execution_count": null,
      "outputs": [
        {
          "output_type": "stream",
          "name": "stdout",
          "text": [
            "       ACTION  RESOURCE  MGR_ID  ROLE_ROLLUP_1  ROLE_ROLLUP_2  ROLE_DEPTNAME  \\\n",
            "0           1     39353   85475         117961         118300         123472   \n",
            "1           1     17183    1540         117961         118343         123125   \n",
            "2           1     36724   14457         118219         118220         117884   \n",
            "3           1     36135    5396         117961         118343         119993   \n",
            "4           1     42680    5905         117929         117930         119569   \n",
            "...       ...       ...     ...            ...            ...            ...   \n",
            "32764       1     23497   16971         117961         118300         119993   \n",
            "32765       1     25139  311198          91261         118026         122392   \n",
            "32766       1     34924   28805         117961         118327         120299   \n",
            "32767       1     80574   55643         118256         118257         117945   \n",
            "32768       1     14354   59575         117916         118150         117920   \n",
            "\n",
            "       ROLE_TITLE  ROLE_FAMILY_DESC  ROLE_FAMILY  ROLE_CODE  \n",
            "0          117905            117906       290919     117908  \n",
            "1          118536            118536       308574     118539  \n",
            "2          117879            267952        19721     117880  \n",
            "3          118321            240983       290919     118322  \n",
            "4          119323            123932        19793     119325  \n",
            "...           ...               ...          ...        ...  \n",
            "32764      118321            240983       290919     118322  \n",
            "32765      121143            173805       249618     121145  \n",
            "32766      124922            152038       118612     124924  \n",
            "32767      280788            280788       292795     119082  \n",
            "32768      118568            122142        19721     118570  \n",
            "\n",
            "[32769 rows x 10 columns]           id  RESOURCE  MGR_ID  ROLE_ROLLUP_1  ROLE_ROLLUP_2  ROLE_DEPTNAME  \\\n",
            "0          1     78766   72734         118079         118080         117878   \n",
            "1          2     40644    4378         117961         118327         118507   \n",
            "2          3     75443    2395         117961         118300         119488   \n",
            "3          4     43219   19986         117961         118225         118403   \n",
            "4          5     42093   50015         117961         118343         119598   \n",
            "...      ...       ...     ...            ...            ...            ...   \n",
            "58916  58917     75078    4565         117961         118386         121961   \n",
            "58917  58918      6977   72209         117961         118225         124948   \n",
            "58918  58919     39262    6114         117961         118343           6104   \n",
            "58919  58920      1023    8674         117961         118327         120318   \n",
            "58920  58921     44977    3918         117961         118343         118660   \n",
            "\n",
            "       ROLE_TITLE  ROLE_FAMILY_DESC  ROLE_FAMILY  ROLE_CODE  \n",
            "0          117879            118177        19721     117880  \n",
            "1          118863            122008       118398     118865  \n",
            "2          118172            301534       249618     118175  \n",
            "3          120773            136187       118960     120774  \n",
            "4          118422            300136       118424     118425  \n",
            "...           ...               ...          ...        ...  \n",
            "58916      118784            117906       290919     118786  \n",
            "58917      118054            118054       117887     118055  \n",
            "58918      118278            118260       290919     118279  \n",
            "58919      118321            117906       290919     118322  \n",
            "58920      119433            133686       118424     119435  \n",
            "\n",
            "[58921 rows x 10 columns]\n"
          ]
        }
      ]
    },
    {
      "cell_type": "code",
      "source": [
        "train.info(),test.info()"
      ],
      "metadata": {
        "colab": {
          "base_uri": "https://localhost:8080/"
        },
        "id": "vLhNzDXgqM6E",
        "outputId": "94ac4314-43e6-4fd8-e94c-0604104a38b7"
      },
      "execution_count": null,
      "outputs": [
        {
          "output_type": "stream",
          "name": "stdout",
          "text": [
            "<class 'pandas.core.frame.DataFrame'>\n",
            "RangeIndex: 32769 entries, 0 to 32768\n",
            "Data columns (total 10 columns):\n",
            " #   Column            Non-Null Count  Dtype\n",
            "---  ------            --------------  -----\n",
            " 0   ACTION            32769 non-null  int64\n",
            " 1   RESOURCE          32769 non-null  int64\n",
            " 2   MGR_ID            32769 non-null  int64\n",
            " 3   ROLE_ROLLUP_1     32769 non-null  int64\n",
            " 4   ROLE_ROLLUP_2     32769 non-null  int64\n",
            " 5   ROLE_DEPTNAME     32769 non-null  int64\n",
            " 6   ROLE_TITLE        32769 non-null  int64\n",
            " 7   ROLE_FAMILY_DESC  32769 non-null  int64\n",
            " 8   ROLE_FAMILY       32769 non-null  int64\n",
            " 9   ROLE_CODE         32769 non-null  int64\n",
            "dtypes: int64(10)\n",
            "memory usage: 2.5 MB\n",
            "<class 'pandas.core.frame.DataFrame'>\n",
            "RangeIndex: 58921 entries, 0 to 58920\n",
            "Data columns (total 10 columns):\n",
            " #   Column            Non-Null Count  Dtype\n",
            "---  ------            --------------  -----\n",
            " 0   id                58921 non-null  int64\n",
            " 1   RESOURCE          58921 non-null  int64\n",
            " 2   MGR_ID            58921 non-null  int64\n",
            " 3   ROLE_ROLLUP_1     58921 non-null  int64\n",
            " 4   ROLE_ROLLUP_2     58921 non-null  int64\n",
            " 5   ROLE_DEPTNAME     58921 non-null  int64\n",
            " 6   ROLE_TITLE        58921 non-null  int64\n",
            " 7   ROLE_FAMILY_DESC  58921 non-null  int64\n",
            " 8   ROLE_FAMILY       58921 non-null  int64\n",
            " 9   ROLE_CODE         58921 non-null  int64\n",
            "dtypes: int64(10)\n",
            "memory usage: 4.5 MB\n"
          ]
        },
        {
          "output_type": "execute_result",
          "data": {
            "text/plain": [
              "(None, None)"
            ]
          },
          "metadata": {},
          "execution_count": 6
        }
      ]
    },
    {
      "cell_type": "code",
      "source": [
        "train.describe(),test.describe()"
      ],
      "metadata": {
        "colab": {
          "base_uri": "https://localhost:8080/"
        },
        "id": "fhTPGM4CqR5f",
        "outputId": "bb758787-b7e2-4374-c0a4-68aab161d05c"
      },
      "execution_count": null,
      "outputs": [
        {
          "output_type": "execute_result",
          "data": {
            "text/plain": [
              "(             ACTION       RESOURCE         MGR_ID  ROLE_ROLLUP_1  \\\n",
              " count  32769.000000   32769.000000   32769.000000   32769.000000   \n",
              " mean       0.942110   42923.916171   25988.957979  116952.627788   \n",
              " std        0.233539   34173.892702   35928.031650   10875.563591   \n",
              " min        0.000000       0.000000      25.000000    4292.000000   \n",
              " 25%        1.000000   20299.000000    4566.000000  117961.000000   \n",
              " 50%        1.000000   35376.000000   13545.000000  117961.000000   \n",
              " 75%        1.000000   74189.000000   42034.000000  117961.000000   \n",
              " max        1.000000  312153.000000  311696.000000  311178.000000   \n",
              " \n",
              "        ROLE_ROLLUP_2  ROLE_DEPTNAME     ROLE_TITLE  ROLE_FAMILY_DESC  \\\n",
              " count   32769.000000   32769.000000   32769.000000      32769.000000   \n",
              " mean   118301.823156  118912.779914  125916.152644     170178.369648   \n",
              " std      4551.588572   18961.322917   31036.465825      69509.462130   \n",
              " min     23779.000000    4674.000000  117879.000000       4673.000000   \n",
              " 25%    118102.000000  118395.000000  118274.000000     117906.000000   \n",
              " 50%    118300.000000  118921.000000  118568.000000     128696.000000   \n",
              " 75%    118386.000000  120535.000000  120006.000000     235280.000000   \n",
              " max    286791.000000  286792.000000  311867.000000     311867.000000   \n",
              " \n",
              "          ROLE_FAMILY      ROLE_CODE  \n",
              " count   32769.000000   32769.000000  \n",
              " mean   183703.408893  119789.430132  \n",
              " std    100488.407413    5784.275516  \n",
              " min      3130.000000  117880.000000  \n",
              " 25%    118363.000000  118232.000000  \n",
              " 50%    119006.000000  118570.000000  \n",
              " 75%    290919.000000  119348.000000  \n",
              " max    308574.000000  270691.000000  ,\n",
              "                  id       RESOURCE         MGR_ID  ROLE_ROLLUP_1  \\\n",
              " count  58921.000000   58921.000000   58921.000000   58921.000000   \n",
              " mean   29461.000000   39383.739482   26691.645050  117028.638041   \n",
              " std    17009.171942   33717.397122   35110.244281   10805.446548   \n",
              " min        1.000000       0.000000      25.000000    4292.000000   \n",
              " 25%    14731.000000   18418.000000    4663.000000  117961.000000   \n",
              " 50%    29461.000000   33248.000000   14789.000000  117961.000000   \n",
              " 75%    44191.000000   45481.000000   46512.000000  117961.000000   \n",
              " max    58921.000000  312136.000000  311779.000000  311178.000000   \n",
              " \n",
              "        ROLE_ROLLUP_2  ROLE_DEPTNAME     ROLE_TITLE  ROLE_FAMILY_DESC  \\\n",
              " count   58921.000000   58921.000000   58921.000000      58921.000000   \n",
              " mean   118316.334091  118858.006721  126358.019993     170455.861425   \n",
              " std      4284.678750   17916.179109   32068.294507      69684.692799   \n",
              " min     23779.000000    4674.000000  117879.000000       4673.000000   \n",
              " 25%    118096.000000  118378.000000  118259.000000     117913.000000   \n",
              " 50%    118300.000000  118910.000000  118636.000000     129282.000000   \n",
              " 75%    118386.000000  120410.000000  120006.000000     234813.000000   \n",
              " max    194897.000000  277693.000000  311867.000000     311867.000000   \n",
              " \n",
              "         ROLE_FAMILY      ROLE_CODE  \n",
              " count   58921.00000   58921.000000  \n",
              " mean   179278.05896  119707.754264  \n",
              " std     99639.96530    5326.979178  \n",
              " min      3130.00000  117880.000000  \n",
              " 25%    118331.00000  118055.000000  \n",
              " 50%    118704.00000  118570.000000  \n",
              " 75%    290919.00000  119353.000000  \n",
              " max    308574.00000  270691.000000  )"
            ]
          },
          "metadata": {},
          "execution_count": 7
        }
      ]
    },
    {
      "cell_type": "code",
      "source": [
        "train.isnull().sum()"
      ],
      "metadata": {
        "colab": {
          "base_uri": "https://localhost:8080/"
        },
        "id": "Y6SXZEhEqZK7",
        "outputId": "5c07f437-8179-4dc1-b8be-6b9e566fff4b"
      },
      "execution_count": null,
      "outputs": [
        {
          "output_type": "execute_result",
          "data": {
            "text/plain": [
              "ACTION              0\n",
              "RESOURCE            0\n",
              "MGR_ID              0\n",
              "ROLE_ROLLUP_1       0\n",
              "ROLE_ROLLUP_2       0\n",
              "ROLE_DEPTNAME       0\n",
              "ROLE_TITLE          0\n",
              "ROLE_FAMILY_DESC    0\n",
              "ROLE_FAMILY         0\n",
              "ROLE_CODE           0\n",
              "dtype: int64"
            ]
          },
          "metadata": {},
          "execution_count": 8
        }
      ]
    },
    {
      "cell_type": "code",
      "source": [
        "test.isnull().sum()"
      ],
      "metadata": {
        "colab": {
          "base_uri": "https://localhost:8080/"
        },
        "id": "L5zrCcpSqe70",
        "outputId": "5e0aa14b-e337-412c-916d-ebd4249c7dff"
      },
      "execution_count": null,
      "outputs": [
        {
          "output_type": "execute_result",
          "data": {
            "text/plain": [
              "id                  0\n",
              "RESOURCE            0\n",
              "MGR_ID              0\n",
              "ROLE_ROLLUP_1       0\n",
              "ROLE_ROLLUP_2       0\n",
              "ROLE_DEPTNAME       0\n",
              "ROLE_TITLE          0\n",
              "ROLE_FAMILY_DESC    0\n",
              "ROLE_FAMILY         0\n",
              "ROLE_CODE           0\n",
              "dtype: int64"
            ]
          },
          "metadata": {},
          "execution_count": 9
        }
      ]
    },
    {
      "cell_type": "code",
      "source": [
        "y_train=train[\"Action\"]\n"
      ],
      "metadata": {
        "id": "o1xfo7e5qjn6"
      },
      "execution_count": null,
      "outputs": []
    },
    {
      "cell_type": "code",
      "source": [
        "pip"
      ],
      "metadata": {
        "id": "xp6GPn-rs5_x"
      },
      "execution_count": null,
      "outputs": []
    },
    {
      "cell_type": "code",
      "source": [],
      "metadata": {
        "id": "dhQoIJW8rS6B"
      },
      "execution_count": null,
      "outputs": []
    }
  ]
}