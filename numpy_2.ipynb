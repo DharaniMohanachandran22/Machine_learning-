{
  "nbformat": 4,
  "nbformat_minor": 0,
  "metadata": {
    "colab": {
      "provenance": [],
      "authorship_tag": "ABX9TyOn8dab06WI5pDH+MEwKQ3b",
      "include_colab_link": true
    },
    "kernelspec": {
      "name": "python3",
      "display_name": "Python 3"
    },
    "language_info": {
      "name": "python"
    }
  },
  "cells": [
    {
      "cell_type": "markdown",
      "metadata": {
        "id": "view-in-github",
        "colab_type": "text"
      },
      "source": [
        "<a href=\"https://colab.research.google.com/github/DharaniMohanachandran22/Machine_learning-/blob/main/numpy_2.ipynb\" target=\"_parent\"><img src=\"https://colab.research.google.com/assets/colab-badge.svg\" alt=\"Open In Colab\"/></a>"
      ]
    },
    {
      "cell_type": "code",
      "execution_count": null,
      "metadata": {
        "colab": {
          "base_uri": "https://localhost:8080/"
        },
        "id": "LOFv78pD7o_O",
        "outputId": "eba34b43-6439-4b2c-e298-ceb2a28af5f9"
      },
      "outputs": [
        {
          "output_type": "stream",
          "name": "stdout",
          "text": [
            "(4, 4)\n",
            "[1 4 6 4]\n"
          ]
        }
      ],
      "source": [
        "import numpy as np\n",
        "a=np.array([[1,2,3,4],[2,3,4,5],[6,7,8,9],[3,4,5,6]])\n",
        "print(a.shape)\n",
        "b=np.array([0,2,0,1])\n",
        "print(a[np.arange(4),b])"
      ]
    },
    {
      "cell_type": "code",
      "source": [
        "a=np.array([1,8,9,-3,2,4,7,9])\n",
        "print(np.argmax(a))\n",
        "print(np.argmin(a))\n",
        "print(np.argsort(a))\n",
        "print(np.argsort(a)[::-1])\n",
        "print(np.where(a>5)[0])\n",
        "print(np.where(a>=a[np.argmax(a)])[0])"
      ],
      "metadata": {
        "colab": {
          "base_uri": "https://localhost:8080/"
        },
        "id": "aYxqwDqK9pgC",
        "outputId": "52920499-dcd4-4018-d7d0-253f84ee1db2"
      },
      "execution_count": null,
      "outputs": [
        {
          "output_type": "stream",
          "name": "stdout",
          "text": [
            "2\n",
            "3\n",
            "[3 0 4 5 6 1 2 7]\n",
            "[7 2 1 6 5 4 0 3]\n",
            "[1 2 6 7]\n",
            "[2 7]\n"
          ]
        }
      ]
    },
    {
      "cell_type": "code",
      "source": [
        "a=[0]\n",
        "a=np.append(a,[1,2,3,4])\n",
        "print(a)"
      ],
      "metadata": {
        "colab": {
          "base_uri": "https://localhost:8080/"
        },
        "id": "RrWFbOdV_ejF",
        "outputId": "3e81df0b-a2e2-42d2-885c-4280cd2d1f73"
      },
      "execution_count": null,
      "outputs": [
        {
          "output_type": "stream",
          "name": "stdout",
          "text": [
            "[0 1 2 3 4]\n"
          ]
        }
      ]
    },
    {
      "cell_type": "code",
      "source": [
        "r=[9,8,7,6,5]\n",
        "d=np.delete(r,[1,3])\n",
        "print(d)"
      ],
      "metadata": {
        "colab": {
          "base_uri": "https://localhost:8080/"
        },
        "id": "NEh--fK9_uEx",
        "outputId": "6576b8aa-4436-43fc-ecdf-4f3d6cb58a6e"
      },
      "execution_count": null,
      "outputs": [
        {
          "output_type": "stream",
          "name": "stdout",
          "text": [
            "[9 7 5]\n"
          ]
        }
      ]
    },
    {
      "cell_type": "markdown",
      "source": [
        "print(v.dot(w))\n",
        "print(np.dot(v,w))\n",
        "print(v @ w)  => dot prodect"
      ],
      "metadata": {
        "id": "4n8WiTCBDl-k"
      }
    },
    {
      "cell_type": "code",
      "source": [
        "x=np.array([[1,2],[3,4],[5,6]])\n"
      ],
      "metadata": {
        "id": "S_aqJQo_D2xv"
      },
      "execution_count": null,
      "outputs": []
    },
    {
      "cell_type": "markdown",
      "source": [
        "min,max,transpose,sum"
      ],
      "metadata": {
        "id": "A0r8kylNEjdl"
      }
    },
    {
      "cell_type": "code",
      "source": [
        "w=np.array([[1,2,3],[2,3,4],[3,4,5]])\n",
        "print(w.shape)\n",
        "print(w)\n",
        "z=w.squeeze()\n",
        "print(z)\n",
        "t=z.reshape(-100,3)#t=z.reshape(-100,4)=> error\n",
        "print(t)"
      ],
      "metadata": {
        "colab": {
          "base_uri": "https://localhost:8080/"
        },
        "id": "E8z15T2KEo6P",
        "outputId": "3b070471-1a81-4876-d689-3df2f7fed698"
      },
      "execution_count": null,
      "outputs": [
        {
          "output_type": "stream",
          "name": "stdout",
          "text": [
            "(3, 3)\n",
            "[[1 2 3]\n",
            " [2 3 4]\n",
            " [3 4 5]]\n",
            "[[1 2 3]\n",
            " [2 3 4]\n",
            " [3 4 5]]\n",
            "[[1 2 3]\n",
            " [2 3 4]\n",
            " [3 4 5]]\n"
          ]
        }
      ]
    },
    {
      "cell_type": "markdown",
      "source": [
        "board casting"
      ],
      "metadata": {
        "id": "DyiVY7MOFqR5"
      }
    },
    {
      "cell_type": "code",
      "source": [
        "a=np.array([1,2,3])\n",
        "b=np.array([[4],[5],[6]])\n",
        "c=a+b\n",
        "print(c)"
      ],
      "metadata": {
        "colab": {
          "base_uri": "https://localhost:8080/"
        },
        "id": "539g1zLWFwz4",
        "outputId": "fc52cf99-fd7f-4f36-a135-e20f3f0ce5d5"
      },
      "execution_count": null,
      "outputs": [
        {
          "output_type": "stream",
          "name": "stdout",
          "text": [
            "[[5 6 7]\n",
            " [6 7 8]\n",
            " [7 8 9]]\n"
          ]
        }
      ]
    },
    {
      "cell_type": "markdown",
      "source": [
        "boolean,cheesheet"
      ],
      "metadata": {
        "id": "8nESg3omHboU"
      }
    },
    {
      "cell_type": "code",
      "source": [
        "a=np.array([[1,8,9,-3,2,4,7,9],[3,4,5,6,7,8,1,2],[2,3,4,5,6,7,8,9]])\n",
        "print(np.where(a>5)[1])\n",
        "print(np.where(a>5)[0])\n",
        "print(np.where(a>5))"
      ],
      "metadata": {
        "colab": {
          "base_uri": "https://localhost:8080/"
        },
        "id": "1dV2PQEtI3YK",
        "outputId": "b380ed46-37a9-4989-b58a-7000edaafcba"
      },
      "execution_count": null,
      "outputs": [
        {
          "output_type": "stream",
          "name": "stdout",
          "text": [
            "[1 2 6 7 3 4 5 4 5 6 7]\n",
            "[0 0 0 0 1 1 1 2 2 2 2]\n",
            "(array([0, 0, 0, 0, 1, 1, 1, 2, 2, 2, 2]), array([1, 2, 6, 7, 3, 4, 5, 4, 5, 6, 7]))\n"
          ]
        }
      ]
    }
  ]
}